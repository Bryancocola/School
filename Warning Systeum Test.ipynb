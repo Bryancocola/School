{
 "cells": [
  {
   "cell_type": "code",
   "execution_count": 1,
   "metadata": {},
   "outputs": [],
   "source": [
    "import pandas as pd\n",
    "import os\n",
    "import csv\n",
    "from csv import reader\n",
    "from csv import DictReader\n",
    "import datetime\n",
    "import tkinter as tk"
   ]
  },
  {
   "cell_type": "code",
   "execution_count": 2,
   "metadata": {},
   "outputs": [],
   "source": [
    "today = datetime.datetime.today()\n",
    "\n",
    "#Create a datetime object with today's value\n",
    "today = datetime.datetime.today() \n",
    "\n",
    "#print today's date in YYYY-MM-DD format\n",
    "CurrentDate = (datetime.datetime.strftime(today,'%m/%d/%y'))\n",
    "\n",
    "\n",
    "#add one day to today's date\n",
    "tomorrow = today + datetime.timedelta(1)\n",
    "\n",
    "#print tomorrow's date in YYYY-MM-DD format\n",
    "NextDate = (datetime.datetime.strftime(tomorrow,'%m/%d/%y'))\n",
    "\n"
   ]
  },
  {
   "cell_type": "code",
   "execution_count": 3,
   "metadata": {},
   "outputs": [],
   "source": [
    "with open ('NOAA Tide Table 2021.csv') as read_obj:\n",
    "    csv_dict_reader = reader(read_obj)\n",
    "    Today_Data = []\n",
    "    Tommarrow_Data = []\n",
    "    for row in csv_dict_reader:\n",
    "        FloodDate = str(row[0])\n",
    "        WaterLevel = float(row[3])\n",
    "        if FloodDate == str(CurrentDate):\n",
    "            Today_Data.append(row)\n",
    "        if FloodDate == str(NextDate):\n",
    "            Tommarrow_Data.append(row)\n",
    "            pass"
   ]
  },
  {
   "cell_type": "code",
   "execution_count": 7,
   "metadata": {},
   "outputs": [],
   "source": [
    "window = tk.Tk()\n",
    "\n",
    "for i in range(3):\n",
    "    window.columnconfigure(i, weight=1, minsize=75)\n",
    "    window.rowconfigure(i, weight=1, minsize=50)\n",
    "\n",
    "    for j in range(0, 3):\n",
    "        frame = tk.Frame(\n",
    "            master=window,\n",
    "            relief=tk.RAISED,\n",
    "            borderwidth=1\n",
    "        )\n",
    "        frame.grid(row=i, column=j, padx=5, pady=5)\n",
    "        \n",
    "        if i==0 and j ==0:\n",
    "            label = tk.Label(master=frame,text=\"Today\")\n",
    "            label.pack(padx=5, pady=5)\n",
    "            \n",
    "        elif i==0 and j==2:\n",
    "            label = tk.Label(master=frame, text=\"Tomarrow\")\n",
    "            label.pack(padx=5, pady=5)\n",
    "            \n",
    "        elif i==1 and j ==0:\n",
    "            for entry in Today_Data:\n",
    "                label = tk.Label(master=frame,text=\n",
    "                                'Date: '+entry[1]+\" \"+entry[0]+\" \"\n",
    "                                 +'Time: '+entry[2]+\" \"+\n",
    "                                'Feet: '+entry[3]+' '+'CM: '+entry[4]\n",
    "                                +\" Tide Level: \"+entry[5])\n",
    "                label.pack(padx=5, pady=5)\n",
    "                \n",
    "        elif i==1 and j ==2:\n",
    "            for entry in Tommarrow_Data:\n",
    "                label = tk.Label(master=frame, text=\n",
    "                                'Date: '+entry[1]+\" \"+entry[0]+\" \"\n",
    "                                 +'Time: '+entry[2]+\" \"+\n",
    "                                'Feet: '+entry[3]+' '+'CM: '+entry[4]\n",
    "                                +\" Tide Level: \"+entry[5])\n",
    "                label.pack(padx=5, pady=5)\n",
    "        \n",
    "        else:\n",
    "            pass\n",
    "\n",
    "\n",
    "window.mainloop()"
   ]
  },
  {
   "cell_type": "code",
   "execution_count": null,
   "metadata": {},
   "outputs": [],
   "source": []
  },
  {
   "cell_type": "code",
   "execution_count": null,
   "metadata": {},
   "outputs": [],
   "source": []
  },
  {
   "cell_type": "code",
   "execution_count": null,
   "metadata": {},
   "outputs": [],
   "source": []
  },
  {
   "cell_type": "code",
   "execution_count": null,
   "metadata": {},
   "outputs": [],
   "source": []
  }
 ],
 "metadata": {
  "kernelspec": {
   "display_name": "Python 3",
   "language": "python",
   "name": "python3"
  },
  "language_info": {
   "codemirror_mode": {
    "name": "ipython",
    "version": 3
   },
   "file_extension": ".py",
   "mimetype": "text/x-python",
   "name": "python",
   "nbconvert_exporter": "python",
   "pygments_lexer": "ipython3",
   "version": "3.7.6"
  }
 },
 "nbformat": 4,
 "nbformat_minor": 4
}
