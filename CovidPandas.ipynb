{
 "cells": [
  {
   "cell_type": "code",
   "execution_count": 1,
   "metadata": {},
   "outputs": [],
   "source": [
    "# Load the Pandas libraries with alias 'pd' \n",
    "import pandas as pd "
   ]
  },
  {
   "cell_type": "code",
   "execution_count": 4,
   "metadata": {},
   "outputs": [],
   "source": [
    "# Read data from file 'filename.csv' \n",
    "data = pd.read_csv(\"owid-covid-data.csv\") "
   ]
  },
  {
   "cell_type": "code",
   "execution_count": 10,
   "metadata": {},
   "outputs": [
    {
     "data": {
      "text/html": [
       "<div>\n",
       "<style scoped>\n",
       "    .dataframe tbody tr th:only-of-type {\n",
       "        vertical-align: middle;\n",
       "    }\n",
       "\n",
       "    .dataframe tbody tr th {\n",
       "        vertical-align: top;\n",
       "    }\n",
       "\n",
       "    .dataframe thead th {\n",
       "        text-align: right;\n",
       "    }\n",
       "</style>\n",
       "<table border=\"1\" class=\"dataframe\">\n",
       "  <thead>\n",
       "    <tr style=\"text-align: right;\">\n",
       "      <th></th>\n",
       "      <th>iso_code</th>\n",
       "      <th>continent</th>\n",
       "      <th>location</th>\n",
       "      <th>date</th>\n",
       "      <th>total_cases</th>\n",
       "      <th>new_cases</th>\n",
       "      <th>new_cases_smoothed</th>\n",
       "      <th>total_deaths</th>\n",
       "      <th>new_deaths</th>\n",
       "      <th>new_deaths_smoothed</th>\n",
       "      <th>...</th>\n",
       "      <th>gdp_per_capita</th>\n",
       "      <th>extreme_poverty</th>\n",
       "      <th>cardiovasc_death_rate</th>\n",
       "      <th>diabetes_prevalence</th>\n",
       "      <th>female_smokers</th>\n",
       "      <th>male_smokers</th>\n",
       "      <th>handwashing_facilities</th>\n",
       "      <th>hospital_beds_per_thousand</th>\n",
       "      <th>life_expectancy</th>\n",
       "      <th>human_development_index</th>\n",
       "    </tr>\n",
       "  </thead>\n",
       "  <tbody>\n",
       "    <tr>\n",
       "      <th>0</th>\n",
       "      <td>ABW</td>\n",
       "      <td>North America</td>\n",
       "      <td>Aruba</td>\n",
       "      <td>2020-03-13</td>\n",
       "      <td>2.0</td>\n",
       "      <td>2.0</td>\n",
       "      <td>NaN</td>\n",
       "      <td>0.0</td>\n",
       "      <td>0.0</td>\n",
       "      <td>NaN</td>\n",
       "      <td>...</td>\n",
       "      <td>35973.781</td>\n",
       "      <td>NaN</td>\n",
       "      <td>NaN</td>\n",
       "      <td>11.62</td>\n",
       "      <td>NaN</td>\n",
       "      <td>NaN</td>\n",
       "      <td>NaN</td>\n",
       "      <td>NaN</td>\n",
       "      <td>76.29</td>\n",
       "      <td>NaN</td>\n",
       "    </tr>\n",
       "    <tr>\n",
       "      <th>1</th>\n",
       "      <td>ABW</td>\n",
       "      <td>North America</td>\n",
       "      <td>Aruba</td>\n",
       "      <td>2020-03-19</td>\n",
       "      <td>NaN</td>\n",
       "      <td>NaN</td>\n",
       "      <td>0.286</td>\n",
       "      <td>NaN</td>\n",
       "      <td>NaN</td>\n",
       "      <td>0.0</td>\n",
       "      <td>...</td>\n",
       "      <td>35973.781</td>\n",
       "      <td>NaN</td>\n",
       "      <td>NaN</td>\n",
       "      <td>11.62</td>\n",
       "      <td>NaN</td>\n",
       "      <td>NaN</td>\n",
       "      <td>NaN</td>\n",
       "      <td>NaN</td>\n",
       "      <td>76.29</td>\n",
       "      <td>NaN</td>\n",
       "    </tr>\n",
       "    <tr>\n",
       "      <th>2</th>\n",
       "      <td>ABW</td>\n",
       "      <td>North America</td>\n",
       "      <td>Aruba</td>\n",
       "      <td>2020-03-20</td>\n",
       "      <td>4.0</td>\n",
       "      <td>2.0</td>\n",
       "      <td>0.286</td>\n",
       "      <td>0.0</td>\n",
       "      <td>0.0</td>\n",
       "      <td>0.0</td>\n",
       "      <td>...</td>\n",
       "      <td>35973.781</td>\n",
       "      <td>NaN</td>\n",
       "      <td>NaN</td>\n",
       "      <td>11.62</td>\n",
       "      <td>NaN</td>\n",
       "      <td>NaN</td>\n",
       "      <td>NaN</td>\n",
       "      <td>NaN</td>\n",
       "      <td>76.29</td>\n",
       "      <td>NaN</td>\n",
       "    </tr>\n",
       "    <tr>\n",
       "      <th>3</th>\n",
       "      <td>ABW</td>\n",
       "      <td>North America</td>\n",
       "      <td>Aruba</td>\n",
       "      <td>2020-03-21</td>\n",
       "      <td>NaN</td>\n",
       "      <td>NaN</td>\n",
       "      <td>0.286</td>\n",
       "      <td>NaN</td>\n",
       "      <td>NaN</td>\n",
       "      <td>0.0</td>\n",
       "      <td>...</td>\n",
       "      <td>35973.781</td>\n",
       "      <td>NaN</td>\n",
       "      <td>NaN</td>\n",
       "      <td>11.62</td>\n",
       "      <td>NaN</td>\n",
       "      <td>NaN</td>\n",
       "      <td>NaN</td>\n",
       "      <td>NaN</td>\n",
       "      <td>76.29</td>\n",
       "      <td>NaN</td>\n",
       "    </tr>\n",
       "    <tr>\n",
       "      <th>4</th>\n",
       "      <td>ABW</td>\n",
       "      <td>North America</td>\n",
       "      <td>Aruba</td>\n",
       "      <td>2020-03-22</td>\n",
       "      <td>NaN</td>\n",
       "      <td>NaN</td>\n",
       "      <td>0.286</td>\n",
       "      <td>NaN</td>\n",
       "      <td>NaN</td>\n",
       "      <td>0.0</td>\n",
       "      <td>...</td>\n",
       "      <td>35973.781</td>\n",
       "      <td>NaN</td>\n",
       "      <td>NaN</td>\n",
       "      <td>11.62</td>\n",
       "      <td>NaN</td>\n",
       "      <td>NaN</td>\n",
       "      <td>NaN</td>\n",
       "      <td>NaN</td>\n",
       "      <td>76.29</td>\n",
       "      <td>NaN</td>\n",
       "    </tr>\n",
       "  </tbody>\n",
       "</table>\n",
       "<p>5 rows × 41 columns</p>\n",
       "</div>"
      ],
      "text/plain": [
       "  iso_code      continent location        date  total_cases  new_cases  \\\n",
       "0      ABW  North America    Aruba  2020-03-13          2.0        2.0   \n",
       "1      ABW  North America    Aruba  2020-03-19          NaN        NaN   \n",
       "2      ABW  North America    Aruba  2020-03-20          4.0        2.0   \n",
       "3      ABW  North America    Aruba  2020-03-21          NaN        NaN   \n",
       "4      ABW  North America    Aruba  2020-03-22          NaN        NaN   \n",
       "\n",
       "   new_cases_smoothed  total_deaths  new_deaths  new_deaths_smoothed  ...  \\\n",
       "0                 NaN           0.0         0.0                  NaN  ...   \n",
       "1               0.286           NaN         NaN                  0.0  ...   \n",
       "2               0.286           0.0         0.0                  0.0  ...   \n",
       "3               0.286           NaN         NaN                  0.0  ...   \n",
       "4               0.286           NaN         NaN                  0.0  ...   \n",
       "\n",
       "   gdp_per_capita  extreme_poverty  cardiovasc_death_rate  \\\n",
       "0       35973.781              NaN                    NaN   \n",
       "1       35973.781              NaN                    NaN   \n",
       "2       35973.781              NaN                    NaN   \n",
       "3       35973.781              NaN                    NaN   \n",
       "4       35973.781              NaN                    NaN   \n",
       "\n",
       "   diabetes_prevalence  female_smokers  male_smokers  handwashing_facilities  \\\n",
       "0                11.62             NaN           NaN                     NaN   \n",
       "1                11.62             NaN           NaN                     NaN   \n",
       "2                11.62             NaN           NaN                     NaN   \n",
       "3                11.62             NaN           NaN                     NaN   \n",
       "4                11.62             NaN           NaN                     NaN   \n",
       "\n",
       "   hospital_beds_per_thousand  life_expectancy  human_development_index  \n",
       "0                         NaN            76.29                      NaN  \n",
       "1                         NaN            76.29                      NaN  \n",
       "2                         NaN            76.29                      NaN  \n",
       "3                         NaN            76.29                      NaN  \n",
       "4                         NaN            76.29                      NaN  \n",
       "\n",
       "[5 rows x 41 columns]"
      ]
     },
     "execution_count": 10,
     "metadata": {},
     "output_type": "execute_result"
    }
   ],
   "source": [
    "# Preview the first 5 lines of the loaded data\n",
    "data.head()"
   ]
  },
  {
   "cell_type": "code",
   "execution_count": 17,
   "metadata": {},
   "outputs": [
    {
     "name": "stdout",
     "output_type": "stream",
     "text": [
      "<class 'pandas.core.frame.DataFrame'>\n",
      "RangeIndex: 50090 entries, 0 to 50089\n",
      "Data columns (total 41 columns):\n",
      " #   Column                           Non-Null Count  Dtype  \n",
      "---  ------                           --------------  -----  \n",
      " 0   iso_code                         49801 non-null  object \n",
      " 1   continent                        49512 non-null  object \n",
      " 2   location                         50090 non-null  object \n",
      " 3   date                             50090 non-null  object \n",
      " 4   total_cases                      49454 non-null  float64\n",
      " 5   new_cases                        49229 non-null  float64\n",
      " 6   new_cases_smoothed               48447 non-null  float64\n",
      " 7   total_deaths                     49454 non-null  float64\n",
      " 8   new_deaths                       49229 non-null  float64\n",
      " 9   new_deaths_smoothed              48447 non-null  float64\n",
      " 10  total_cases_per_million          49165 non-null  float64\n",
      " 11  new_cases_per_million            49165 non-null  float64\n",
      " 12  new_cases_smoothed_per_million   48382 non-null  float64\n",
      " 13  total_deaths_per_million         49165 non-null  float64\n",
      " 14  new_deaths_per_million           49165 non-null  float64\n",
      " 15  new_deaths_smoothed_per_million  48382 non-null  float64\n",
      " 16  new_tests                        18247 non-null  float64\n",
      " 17  total_tests                      18672 non-null  float64\n",
      " 18  total_tests_per_thousand         18672 non-null  float64\n",
      " 19  new_tests_per_thousand           18247 non-null  float64\n",
      " 20  new_tests_smoothed               20652 non-null  float64\n",
      " 21  new_tests_smoothed_per_thousand  20652 non-null  float64\n",
      " 22  tests_per_case                   19027 non-null  float64\n",
      " 23  positive_rate                    19490 non-null  float64\n",
      " 24  tests_units                      21507 non-null  object \n",
      " 25  stringency_index                 41601 non-null  float64\n",
      " 26  population                       49801 non-null  float64\n",
      " 27  population_density               47507 non-null  float64\n",
      " 28  median_age                       44632 non-null  float64\n",
      " 29  aged_65_older                    43965 non-null  float64\n",
      " 30  aged_70_older                    44400 non-null  float64\n",
      " 31  gdp_per_capita                   44047 non-null  float64\n",
      " 32  extreme_poverty                  29374 non-null  float64\n",
      " 33  cardiovasc_death_rate            44619 non-null  float64\n",
      " 34  diabetes_prevalence              46221 non-null  float64\n",
      " 35  female_smokers                   34885 non-null  float64\n",
      " 36  male_smokers                     34440 non-null  float64\n",
      " 37  handwashing_facilities           20963 non-null  float64\n",
      " 38  hospital_beds_per_thousand       40263 non-null  float64\n",
      " 39  life_expectancy                  49168 non-null  float64\n",
      " 40  human_development_index          43063 non-null  float64\n",
      "dtypes: float64(36), object(5)\n",
      "memory usage: 15.7+ MB\n"
     ]
    }
   ],
   "source": [
    "#See information about the file - Column titles and number of enteries.\n",
    "data.info()"
   ]
  },
  {
   "cell_type": "code",
   "execution_count": 46,
   "metadata": {},
   "outputs": [],
   "source": [
    "#Created a new chart of daily average new cases not including the world \n",
    "NewCases=data.groupby('location').new_cases.mean().sort_values(ascending=False).iloc[1:11]"
   ]
  },
  {
   "cell_type": "code",
   "execution_count": 47,
   "metadata": {},
   "outputs": [
    {
     "data": {
      "text/plain": [
       "location\n",
       "United States    27185.861592\n",
       "India            25136.767361\n",
       "Brazil           17694.214533\n",
       "Russia            4588.851211\n",
       "Colombia          4238.981651\n",
       "Name: new_cases, dtype: float64"
      ]
     },
     "execution_count": 47,
     "metadata": {},
     "output_type": "execute_result"
    }
   ],
   "source": [
    "#Making sure it worked correcting \n",
    "NewCases.head()"
   ]
  },
  {
   "cell_type": "code",
   "execution_count": 48,
   "metadata": {},
   "outputs": [
    {
     "data": {
      "text/plain": [
       "<matplotlib.axes._subplots.AxesSubplot at 0x7fbd78f76a00>"
      ]
     },
     "execution_count": 48,
     "metadata": {},
     "output_type": "execute_result"
    },
    {
     "data": {
      "image/png": "[encoded data removed]",
      "text/plain": [
       "<Figure size 432x288 with 1 Axes>"
      ]
     },
     "metadata": {
      "needs_background": "light"
     },
     "output_type": "display_data"
    }
   ],
   "source": [
    "#Attempting to plot it\n",
    "NewCases.plot(x= 'location', y= 'new_cases', kind='bar')"
   ]
  },
  {
   "cell_type": "code",
   "execution_count": 68,
   "metadata": {},
   "outputs": [
    {
     "data": {
      "text/plain": [
       "<matplotlib.axes._subplots.AxesSubplot at 0x7fbd78680730>"
      ]
     },
     "execution_count": 68,
     "metadata": {},
     "output_type": "execute_result"
    },
    {
     "data": {
      "image/png": "[encoded data removed]",
      "text/plain": [
       "<Figure size 432x288 with 2 Axes>"
      ]
     },
     "metadata": {
      "needs_background": "light"
     },
     "output_type": "display_data"
    }
   ],
   "source": [
    "#Looking to see if there is a linear relationship between death rates and mean of daily new cases. \n",
    "data.plot.scatter(x= 'new_cases', y='new_deaths', c='total_tests', colormap='viridis')\n"
   ]
  },
  {
   "cell_type": "code",
   "execution_count": null,
   "metadata": {},
   "outputs": [],
   "source": []
  }
 ],
 "metadata": {
  "kernelspec": {
   "display_name": "Python 3",
   "language": "python",
   "name": "python3"
  },
  "language_info": {
   "codemirror_mode": {
    "name": "ipython",
    "version": 3
   },
   "file_extension": ".py",
   "mimetype": "text/x-python",
   "name": "python",
   "nbconvert_exporter": "python",
   "pygments_lexer": "ipython3",
   "version": "3.8.5"
  }
 },
 "nbformat": 4,
 "nbformat_minor": 4
}
